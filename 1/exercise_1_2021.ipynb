{
 "cells": [
  {
   "cell_type": "markdown",
   "metadata": {},
   "source": [
    "# Probabilistic Models – Spring 2021\n",
    "## Exercise Session 1\n",
    "Jan 27nd 16.15.\n",
    "\n",
    "### Instructions\n",
    "Make sure the notebook produces correct results when ran sequentially starting from the first cell. You can ensure this by clearing all outputs (`Edit > Clear All Outputs`), running all cells (`Run > Run All Cells`), and finally correcting any errors.\n",
    "\n",
    "To get points:\n",
    "1. Submit your answers to the automatically checked Moodle test. \n",
    " - You have 5 tries on the test: the highest obtained score will be taken into account.\n",
    " - For numerical questions the tolerance is +/- 0.01.\n",
    "2. Submit this notebook containing your derivations to Moodle."
   ]
  },
  {
   "cell_type": "markdown",
   "metadata": {},
   "source": [
    "## Exercise 1\n",
    "***\n",
    "\n",
    "Consider the following joint distribution $P$:"
   ]
  },
  {
   "cell_type": "code",
   "execution_count": 2,
   "metadata": {},
   "outputs": [
    {
     "output_type": "stream",
     "name": "stdout",
     "text": [
      "A\tB\tC\tP\nTrue\tTrue\tTrue\t0.075\nTrue\tTrue\tFalse\t0.05\nTrue\tFalse\tTrue\t0.225\nTrue\tFalse\tFalse\t0.15\nFalse\tTrue\tTrue\t0.025\nFalse\tTrue\tFalse\t0.1\nFalse\tFalse\tTrue\t0.075\nFalse\tFalse\tFalse\t0.3\n"
     ]
    }
   ],
   "source": [
    "!cat data/1.csv"
   ]
  },
  {
   "cell_type": "markdown",
   "metadata": {},
   "source": [
    "(a) What is $P(A=T, C=T)$?\n",
    "\n",
    "Update the distribution by conditioning on the event $C=T$, that is, construct the conditional distribution $P( \\cdot |C=T$).\n",
    "\n",
    "(b) What is $P(A=T|C=T)$? $P(B=T|C= T)$?\n",
    "\n",
    "(c) Is the event $A=T$ independent of the event $C=T$? Is $B=T$ independent of $C=T$?\n",
    "\n",
    "### Instructions\n",
    "\n",
    "If you're using Python you can start by reading the provided file into a [Pandas](https://pandas.pydata.org/) [DataFrame](https://pandas.pydata.org/pandas-docs/stable/reference/api/pandas.DataFrame.html) or similarly to a [data.frame](https://www.rdocumentation.org/packages/base/versions/3.6.2/topics/data.frame) in R. To check for equality between two real numbers do not use `x == y`, as it gives false negatives on limited precision floats. Rather, use for example [`math.isclose(x, y)`](https://docs.python.org/3/library/math.html#math.isclose) in Python or [`near(x, y)`](https://dplyr.tidyverse.org/reference/near.html) in R.\n"
   ]
  },
  {
   "source": [
    "(a) $P(A=T, C=T) = 0.075 + 0.225 = 0.3$  \n",
    "  \n",
    "(b)   \n",
    "  $P(A=T|C=T) = 0.75$  \n",
    "  $P(B=T|C= T) = 0.25$\n",
    "  \n",
    "(c)  \n",
    "$A=T$ is not independent of the event $C=T$ because $P(A=T|C=T) \\neq P(A=T)$  \n",
    "$B=T$ is independent of the event $C=T$ because $P(B=T|C=T) \\neq P(B=T)$"
   ],
   "cell_type": "markdown",
   "metadata": {}
  },
  {
   "cell_type": "code",
   "execution_count": 3,
   "metadata": {},
   "outputs": [
    {
     "output_type": "execute_result",
     "data": {
      "text/plain": [
       "       A      B      C      P\n",
       "0   True   True   True  0.075\n",
       "1   True   True  False  0.050\n",
       "2   True  False   True  0.225\n",
       "3   True  False  False  0.150\n",
       "4  False   True   True  0.025\n",
       "5  False   True  False  0.100\n",
       "6  False  False   True  0.075\n",
       "7  False  False  False  0.300"
      ],
      "text/html": "<div>\n<style scoped>\n    .dataframe tbody tr th:only-of-type {\n        vertical-align: middle;\n    }\n\n    .dataframe tbody tr th {\n        vertical-align: top;\n    }\n\n    .dataframe thead th {\n        text-align: right;\n    }\n</style>\n<table border=\"1\" class=\"dataframe\">\n  <thead>\n    <tr style=\"text-align: right;\">\n      <th></th>\n      <th>A</th>\n      <th>B</th>\n      <th>C</th>\n      <th>P</th>\n    </tr>\n  </thead>\n  <tbody>\n    <tr>\n      <th>0</th>\n      <td>True</td>\n      <td>True</td>\n      <td>True</td>\n      <td>0.075</td>\n    </tr>\n    <tr>\n      <th>1</th>\n      <td>True</td>\n      <td>True</td>\n      <td>False</td>\n      <td>0.050</td>\n    </tr>\n    <tr>\n      <th>2</th>\n      <td>True</td>\n      <td>False</td>\n      <td>True</td>\n      <td>0.225</td>\n    </tr>\n    <tr>\n      <th>3</th>\n      <td>True</td>\n      <td>False</td>\n      <td>False</td>\n      <td>0.150</td>\n    </tr>\n    <tr>\n      <th>4</th>\n      <td>False</td>\n      <td>True</td>\n      <td>True</td>\n      <td>0.025</td>\n    </tr>\n    <tr>\n      <th>5</th>\n      <td>False</td>\n      <td>True</td>\n      <td>False</td>\n      <td>0.100</td>\n    </tr>\n    <tr>\n      <th>6</th>\n      <td>False</td>\n      <td>False</td>\n      <td>True</td>\n      <td>0.075</td>\n    </tr>\n    <tr>\n      <th>7</th>\n      <td>False</td>\n      <td>False</td>\n      <td>False</td>\n      <td>0.300</td>\n    </tr>\n  </tbody>\n</table>\n</div>"
     },
     "metadata": {},
     "execution_count": 3
    }
   ],
   "source": [
    "# (b)\n",
    "\n",
    "import pandas as pd\n",
    "import numpy as np\n",
    "import math\n",
    "\n",
    "df = pd.read_csv(\"data/1.csv\", sep=\"\\t\")\n",
    "\n",
    "df\n",
    "\n"
   ]
  },
  {
   "cell_type": "code",
   "execution_count": 4,
   "metadata": {},
   "outputs": [
    {
     "output_type": "execute_result",
     "data": {
      "text/plain": [
       "0.7499999999999999"
      ]
     },
     "metadata": {},
     "execution_count": 4
    }
   ],
   "source": [
    "C_is_true = df.loc[df['C'] == True]\n",
    "\n",
    "A_given_C = C_is_true.loc[df['A'] == True]['P'].sum() / C_is_true[\"P\"].sum()\n",
    "\n",
    "A_given_C\n"
   ]
  },
  {
   "cell_type": "code",
   "execution_count": 5,
   "metadata": {},
   "outputs": [
    {
     "output_type": "execute_result",
     "data": {
      "text/plain": [
       "0.25"
      ]
     },
     "metadata": {},
     "execution_count": 5
    }
   ],
   "source": [
    "B_given_C = C_is_true.loc[df['B'] == True]['P'].sum() / C_is_true[\"P\"].sum()\n",
    "\n",
    "B_given_C"
   ]
  },
  {
   "cell_type": "code",
   "execution_count": 6,
   "metadata": {},
   "outputs": [
    {
     "output_type": "execute_result",
     "data": {
      "text/plain": [
       "False"
      ]
     },
     "metadata": {},
     "execution_count": 6
    }
   ],
   "source": [
    "# (c)\n",
    "\n",
    "A_is_true = df.loc[df['A'] == True][\"P\"].sum()\n",
    "B_is_true = df.loc[df['B'] == True][\"P\"].sum()\n",
    "\n",
    "math.isclose(A_is_true, A_given_C)\n",
    "\n",
    "\n"
   ]
  },
  {
   "cell_type": "code",
   "execution_count": 7,
   "metadata": {},
   "outputs": [
    {
     "output_type": "execute_result",
     "data": {
      "text/plain": [
       "True"
      ]
     },
     "metadata": {},
     "execution_count": 7
    }
   ],
   "source": [
    "math.isclose(B_is_true, B_given_C)"
   ]
  },
  {
   "cell_type": "markdown",
   "metadata": {},
   "source": [
    "## Exercise 2\n",
    "***\n",
    "\n",
    "Consider again the joint distribution $P$ from Exercise 1.\n",
    "\n",
    "(a) What is $P(A=T \\vee B=T)$?\n",
    "\n",
    "\n",
    "Update the distribution by conditioning on the event $(A=T \\vee B=T)$, this is, construct the conditional distribution $P( \\cdot |A=T \\vee B=T)$.\n",
    "\n",
    "(b) What is $P(A=T|A=T \\vee B=T)$? $P(B=T|A=T \\vee B=T)$?\n",
    "\n",
    "(c) Is the event $B=T$ conditionally independent of $C=T$ given the event $(A=T \\vee B=T)$?"
   ]
  },
  {
   "cell_type": "code",
   "execution_count": 8,
   "metadata": {},
   "outputs": [
    {
     "output_type": "execute_result",
     "data": {
      "text/plain": [
       "0.625"
      ]
     },
     "metadata": {},
     "execution_count": 8
    }
   ],
   "source": [
    "# Provide your answer in cells here\n",
    "\n",
    "#(a)\n",
    "A_is_true_or_B_is_true = df.loc[(df['B'] == True) | (df['A'] == True)]\n",
    "\n",
    "A_is_true_or_B_is_true[\"P\"].sum()\n"
   ]
  },
  {
   "cell_type": "code",
   "execution_count": 9,
   "metadata": {},
   "outputs": [
    {
     "output_type": "execute_result",
     "data": {
      "text/plain": [
       "0.8"
      ]
     },
     "metadata": {},
     "execution_count": 9
    }
   ],
   "source": [
    "#(b)\n",
    "given_A_is_true_or_B_is_true = A_is_true_or_B_is_true.assign(P = A_is_true_or_B_is_true[\"P\"] / A_is_true_or_B_is_true[\"P\"].sum())\n",
    "\n",
    "A_is_true = given_A_is_true_or_B_is_true.loc[given_A_is_true_or_B_is_true['A'] == True][\"P\"].sum()\n",
    "\n",
    "A_is_true"
   ]
  },
  {
   "cell_type": "code",
   "execution_count": 10,
   "metadata": {},
   "outputs": [
    {
     "output_type": "execute_result",
     "data": {
      "text/plain": [
       "0.4"
      ]
     },
     "metadata": {},
     "execution_count": 10
    }
   ],
   "source": [
    "B_is_true = given_A_is_true_or_B_is_true.loc[given_A_is_true_or_B_is_true['B'] == True][\"P\"].sum()\n",
    "\n",
    "B_is_true"
   ]
  },
  {
   "cell_type": "code",
   "execution_count": 11,
   "metadata": {},
   "outputs": [
    {
     "output_type": "execute_result",
     "data": {
      "text/plain": [
       "False"
      ]
     },
     "metadata": {},
     "execution_count": 11
    }
   ],
   "source": [
    "# (c)\n",
    "P_BiC = given_A_is_true_or_B_is_true.loc[(given_A_is_true_or_B_is_true['B'] == True) & (given_A_is_true_or_B_is_true['C'] == True)][\"P\"].sum()\n",
    "P_B = given_A_is_true_or_B_is_true.loc[given_A_is_true_or_B_is_true['B'] == True][\"P\"].sum()\n",
    "P_C = given_A_is_true_or_B_is_true.loc[given_A_is_true_or_B_is_true['C'] == True][\"P\"].sum()\n",
    "\n",
    "math.isclose(P_BiC, P_B * P_C)"
   ]
  },
  {
   "cell_type": "markdown",
   "metadata": {},
   "source": [
    "## Exercise 3\n",
    "***\n",
    "\n",
    "Consider the following joint distribution."
   ]
  },
  {
   "cell_type": "code",
   "execution_count": 12,
   "metadata": {},
   "outputs": [
    {
     "output_type": "stream",
     "name": "stdout",
     "text": [
      "A\tB\tC\tP\nTrue\tTrue\tTrue\t0.27\nTrue\tTrue\tFalse\t0.18\nTrue\tFalse\tTrue\t0.03\nTrue\tFalse\tFalse\t0.02\nFalse\tTrue\tTrue\t0.02\nFalse\tTrue\tFalse\t0.03\nFalse\tFalse\tTrue\t0.18\nFalse\tFalse\tFalse\t0.27\n"
     ]
    }
   ],
   "source": [
    "!cat data/3.csv"
   ]
  },
  {
   "cell_type": "markdown",
   "metadata": {},
   "source": [
    "For each pair of variables, state whether they are independent. State also whether they are independent given the third variable. Justify your answers."
   ]
  },
  {
   "cell_type": "code",
   "execution_count": 42,
   "metadata": {},
   "outputs": [
    {
     "output_type": "stream",
     "name": "stdout",
     "text": [
      "____________\nP(A,B) = 0.45\nP(A)P(B) = 0.25\ndependant\n\nP(A,B|C) = 0.54\nP(A|C)P(B|C) = 0.3480000000000001\ndependant\n\n____________\nP(A,C) = 0.30000000000000004\nP(A)P(C) = 0.25\ndependant\n\nP(A,C|B) = 0.54\nP(A|B)P(C|B) = 0.5220000000000001\ndependant\n\n____________\nP(B,C) = 0.29000000000000004\nP(B)P(C) = 0.25\ndependant\n\nP(B,C|A) = 0.54\nP(B|A)P(C|A) = 0.5400000000000001\nindependant\n\n"
     ]
    }
   ],
   "source": [
    "df = pd.read_csv(\"data/3.csv\", sep=\"\\t\")\n",
    "\n",
    "vars = [\"A\", \"B\", \"C\"]\n",
    "\n",
    "for i in range(0, 3):\n",
    "    v1 = vars[i]\n",
    "    P_v1 = df.loc[df[v1] == True][\"P\"].sum()\n",
    "\n",
    "    for j in range(i, 3):\n",
    "        if vars[i] != vars[j]:\n",
    "            v2 = vars[j]\n",
    "\n",
    "            P_v1iv2 = df.loc[(df[v1] == True) & (df[v2] == True)][\"P\"].sum()\n",
    "            P_v1v2 = df.loc[(df[v1] == True)][\"P\"].sum() * df.loc[(df[v2] == True)][\"P\"].sum()\n",
    "\n",
    "            print(\"____________\")\n",
    "            print(f\"P({v1},{v2}) = {P_v1iv2}\")\n",
    "            print(f\"P({v1})P({v2}) = {P_v1v2}\")\n",
    "            if math.isclose(P_v1iv2, P_v1v2):\n",
    "                print(\"independant\")\n",
    "            else:\n",
    "                print(\"dependant\")\n",
    "            print(\"\")\n",
    "\n",
    "            v3 = next(k for k in vars if k != v1 and k != v2)\n",
    "            P_v3 = df.loc[df[v3] == True]\n",
    "            gP_v3 = P_v3.assign(P = P_v3[\"P\"] / P_v3[\"P\"].sum())\n",
    "\n",
    "            P_v1iv2_gv3 = gP_v3.loc[(gP_v3[v1] == True) & (gP_v3[v2] == True)][\"P\"].sum()\n",
    "            P_v1gv3_v2gv3 = gP_v3.loc[(gP_v3[v1] == True)][\"P\"].sum() * gP_v3.loc[(gP_v3[v2] == True)][\"P\"].sum()\n",
    "\n",
    "            print(f\"P({v1},{v2}|{v3}) = {P_v1iv2_gv3}\")\n",
    "            print(f\"P({v1}|{v3})P({v2}|{v3}) = {P_v1gv3_v2gv3}\")\n",
    "\n",
    "            if math.isclose(P_v1iv2_gv3, P_v1gv3_v2gv3):\n",
    "                print(\"independant\")\n",
    "            else:\n",
    "                print(\"dependant\")\n",
    "            print(\"\")\n",
    "\n",
    "\n",
    "           "
   ]
  },
  {
   "cell_type": "markdown",
   "metadata": {},
   "source": [
    "## Exercise 4\n",
    "***\n",
    "\n",
    "We have three urns labeled 1, 2 and 3. The urns contain, respectively, three white and three black balls, four white and two black balls, and one white and two black balls. An experiment consists of selecting an urn at random then drawing a ball from it.\n",
    "\n",
    "Define the joint probability distribution over $U$ and $C$, where $U$ is the chosen urn with values 1, 2 and 3; and $C$ is the color of the ball, with values black and white.\n",
    "\n",
    "(a) What is the probability of drawing a black ball?\n",
    "\n",
    "(b) What is the conditional probability that urn 2 was selected given that a black ball was drawn?\n",
    "\n",
    "(c) What is the probability of selecting urn 1 or a white ball?"
   ]
  },
  {
   "cell_type": "code",
   "execution_count": 45,
   "metadata": {},
   "outputs": [
    {
     "output_type": "execute_result",
     "data": {
      "text/plain": [
       "0.5"
      ]
     },
     "metadata": {},
     "execution_count": 45
    }
   ],
   "source": [
    "# (a)\n",
    "\n",
    "U1 = [3 / 6, 3 / 6]\n",
    "U2 = [4 / 6, 2 / 6]\n",
    "U3 = [1 / 3, 2 / 3]\n",
    "\n",
    "P_B = (U1[1] * (1/3)) + (U2[1] * (1/3)) + (U3[1] * (1/3))\n",
    "\n",
    "P_B"
   ]
  },
  {
   "source": [
    "(b) \n",
    "  \n",
    "$P(U2 | B) = P(B | U2) * P(U2) / P(B)$ \n",
    "\n"
   ],
   "cell_type": "markdown",
   "metadata": {}
  },
  {
   "cell_type": "code",
   "execution_count": 47,
   "metadata": {},
   "outputs": [
    {
     "output_type": "execute_result",
     "data": {
      "text/plain": [
       "0.2222222222222222"
      ]
     },
     "metadata": {},
     "execution_count": 47
    }
   ],
   "source": [
    "# (b)\n",
    "\n",
    "P_B_g_U2 = U2[1]\n",
    "P_B_g_U2 * (1/3) / P_B "
   ]
  },
  {
   "source": [
    "(c) \n",
    "  \n",
    "$P(U1 \\cup W) = P(U1) + P(W) - P(U1 \\cap W) = P(U1) + P(W) - P(U1)P(W | U1)$ "
   ],
   "cell_type": "markdown",
   "metadata": {}
  },
  {
   "cell_type": "code",
   "execution_count": 48,
   "metadata": {},
   "outputs": [
    {
     "output_type": "execute_result",
     "data": {
      "text/plain": [
       "0.6666666666666666"
      ]
     },
     "metadata": {},
     "execution_count": 48
    }
   ],
   "source": [
    "# (c)\n",
    "\n",
    "P_W = 1 - P_B\n",
    "P_U1 = 1/3\n",
    "P_W_g_U1 = U1[0]\n",
    "\n",
    "P_U1 + P_W - P_U1 * P_W_g_U1"
   ]
  },
  {
   "cell_type": "markdown",
   "metadata": {},
   "source": [
    "## Exercise 5\n",
    "***\n",
    "\n",
    "Suppose Ed keeps track of forecasts of Finnish Meterological Institute (FIM) and believes they are correct with 80% probability and Mary belives the forecasts of Foreca are correct with 70% probability. Then suppose FIM predicts rain and Foreca does not.\n",
    "\n",
    "Consider four sets of bets:\n",
    "\n",
    "> (1) Bookie offers to sell Ed a bet for 85 euros returning Ed 100 euros if it rains. Bookie offers to sell Mary a bet for 60 euros returning Mary 100 euros if it does not rain.\n",
    "> \n",
    "> (2) Bookie offers to sell Ed a bet for 79 euros returning Ed 100 euros if it rains. Bookie offers to sell Mary a bet for 69 euros returning Mary 100 euros if it does not rain.\n",
    "> \n",
    "> (3) Bookie offers to sell Ed a bet for 73 euros returning Ed 100 euros if it rains. Bookie offers to sell Mary a bet for 73 euros returning Mary 100 euros if it does not rain.\n",
    "> \n",
    "> (4) Bookie offers to sell Ed a bet for 55 euros returning Ed 100 euros if it rains. Bookie offers to sell Mary a bet for 34 euros returning Mary 100 euros if it does not rain.\n",
    "\n",
    "(a) Which set of bets is a Dutch book?\n",
    "\n",
    "(b) How much money is the bookie guaranteed to make in the Dutch book scenario?\n",
    "\n",
    "Provide some calculations justifying your answers in the notebook."
   ]
  },
  {
   "source": [
    "(1) 85 + 60 - 100 = 45  \n",
    "(2) 79 + 69 - 100 = 48  \n",
    "(3) 73 + 73 - 100 = 46  \n",
    "(4) 55 + 34 - 100 = -11\n",
    "\n",
    "\n",
    "(a) Set 4 is the only one that guarantees a loss to the bookie. Set 1, 2, and 3 are all a net gain for the bookie. However, it does not make sense for Ed to accept the set 1 bet, or for Mary to accept set 3 bet, as the relative payout is too low compared to forecast probability they have estimated. Thus set 2 is a Dutch book, as it results in a net gain for the bookie, and is also sensible for both Ed and Mary.\n",
    "  \n",
    "(b) 79 + 69 - 100 = 48  "
   ],
   "cell_type": "markdown",
   "metadata": {}
  },
  {
   "cell_type": "markdown",
   "metadata": {},
   "source": [
    "The file `data/6.csv` contains 200 data points sampled from the distribution defined in exercise 3, with `True` mapped to 1 and `False` to 0.\n",
    "\n",
    "For each pair of variables, conduct the G²-test for statistical independence. Also conduct the test for each pair of variables given the third variable. That is, repeat the task specified in exercise 3, but this time based on data sampled from the distribution instead of direct access to the distribution. For each conducted test report the p-value obtained when the null hypothesis is that the independence holds.\n",
    "\n",
    "You can also try sampling data from the distribution yourself to see how the obtained p-values behave, but for the Moodle return use the given data set.\n",
    "\n",
    "### G²-test\n",
    "\n",
    "Under the null hypothesis $H_0: X \\mathrel{\\unicode{x2AEB}} Y \\mid C$ we have that\n",
    "\n",
    "$$\\#_{e}(X=x \\wedge Y=y \\wedge C=c) = \\frac{\\#_{e}(X=x \\wedge C=c) \\cdot \\#_{e}(Y=y \\wedge C=c)}{\\#_{e}(C=c)}$$\n",
    "\n",
    "where $\\#$ marks the number of samples satisfying the condition after, and $\\#_{e}$ is the expected number of samples under $H_{0}$.\n",
    "\n",
    "Then examine the following quantity:\n",
    "\n",
    "$$G^{2} = 2 \\sum \\# \\log \\frac{\\#}{\\#_{e}} $$\n",
    "\n",
    "where the summation is over the different configurations of the variables (i.e., different values the variables can assume).\n",
    "\n",
    "Under $H_0$ the quantity $G^2$ is distributed as [$\\chi^2$](https://en.wikipedia.org/wiki/Chi-square_distribution) with $(m_X - 1)(m_Y - 1)m_C$ degrees of freedom, where $m_X,m_Y,m_C$ are the number of possible configurations for $X$, $Y$ and $C$, respectively.\n",
    "\n",
    "### Instructions\n",
    "\n",
    "You can use any libraries you find for the task, but it probably makes sense to implement the $G^2$ computation yourself, and then compute the p-value for example using [SciPy](https://docs.scipy.org/doc/scipy/reference/generated/scipy.stats.chi2.html) (if you're using Python) or the built-in [chisquare functions](https://docs.scipy.org/doc/scipy/reference/generated/scipy.stats.chi2.html) in R."
   ]
  },
  {
   "cell_type": "code",
   "execution_count": 8,
   "metadata": {},
   "outputs": [],
   "source": [
    "# Provide your answer in cells here"
   ]
  }
 ],
 "metadata": {
  "kernelspec": {
   "name": "python385jvsc74a57bd033ca321456b3c53dceabd75ce0bef51f1de1b5cc7e90171e6f75e6e17a8fb5cb",
   "display_name": "Python 3.8.5 64-bit ('ds': pyenv)"
  },
  "language_info": {
   "codemirror_mode": {
    "name": "ipython",
    "version": 3
   },
   "file_extension": ".py",
   "mimetype": "text/x-python",
   "name": "python",
   "nbconvert_exporter": "python",
   "pygments_lexer": "ipython3",
   "version": "3.8.5"
  }
 },
 "nbformat": 4,
 "nbformat_minor": 4
}